{
 "metadata": {
  "name": ""
 },
 "nbformat": 3,
 "nbformat_minor": 0,
 "worksheets": [
  {
   "cells": [
    {
     "cell_type": "code",
     "collapsed": false,
     "input": [
      "import pandas as pd\n",
      "import pprint as pp\n",
      "import json"
     ],
     "language": "python",
     "metadata": {},
     "outputs": [],
     "prompt_number": 10
    },
    {
     "cell_type": "code",
     "collapsed": false,
     "input": [
      "data = pd.read_csv('test.csv')\n",
      "print data"
     ],
     "language": "python",
     "metadata": {},
     "outputs": [
      {
       "output_type": "stream",
       "stream": "stdout",
       "text": [
        "  employees gender  desk\n",
        "0   johanna      f     2\n",
        "1    denise      f     1\n",
        "2      josh      m     2\n",
        "3    lyndsy      m     3\n",
        "4      jeff      m     1\n",
        "5     brian      m     1\n",
        "6   melissa      f     2\n"
       ]
      }
     ],
     "prompt_number": 11
    },
    {
     "cell_type": "code",
     "collapsed": false,
     "input": [
      "type(data)"
     ],
     "language": "python",
     "metadata": {},
     "outputs": [
      {
       "metadata": {},
       "output_type": "pyout",
       "prompt_number": 16,
       "text": [
        "pandas.core.frame.DataFrame"
       ]
      }
     ],
     "prompt_number": 16
    },
    {
     "cell_type": "code",
     "collapsed": false,
     "input": [
      "#I used the SlickGrid example1-simple.html to figure out how the data should look\n",
      "# fields = data.keys()\n",
      "columns = [{'id':k,'name':k,'field':k,} for k in data.keys()]\n",
      "print(columns)"
     ],
     "language": "python",
     "metadata": {},
     "outputs": [
      {
       "output_type": "stream",
       "stream": "stdout",
       "text": [
        "[{'field': 'employees', 'id': 'employees', 'name': 'employees'}, {'field': 'gender', 'id': 'gender', 'name': 'gender'}, {'field': 'desk', 'id': 'desk', 'name': 'desk'}]\n"
       ]
      }
     ],
     "prompt_number": 12
    },
    {
     "cell_type": "code",
     "collapsed": false,
     "input": [
      "def row_population(data):\n",
      "    fields = data.keys()\n",
      "    num_rows = len(data[fields[0]])\n",
      "    json_list = []\n",
      "    for i in range(num_rows):\n",
      "        json_list.append({})\n",
      "        for k in fields:\n",
      "            json_list[i][k] = str(data[k][i])\n",
      "    s = json.dumps(json_list)\n",
      "    return s\n",
      "\n",
      "rows = row_population(data)\n",
      "print(row_population(data))"
     ],
     "language": "python",
     "metadata": {},
     "outputs": [
      {
       "output_type": "stream",
       "stream": "stdout",
       "text": [
        "[{\"gender\": \"f\", \"employees\": \"johanna\", \"desk\": \"2\"}, {\"gender\": \"f\", \"employees\": \"denise\", \"desk\": \"1\"}, {\"gender\": \"m\", \"employees\": \"josh\", \"desk\": \"2\"}, {\"gender\": \"m\", \"employees\": \"lyndsy\", \"desk\": \"3\"}, {\"gender\": \"m\", \"employees\": \"jeff\", \"desk\": \"1\"}, {\"gender\": \"m\", \"employees\": \"brian\", \"desk\": \"1\"}, {\"gender\": \"f\", \"employees\": \"melissa\", \"desk\": \"2\"}]\n"
       ]
      }
     ],
     "prompt_number": 13
    },
    {
     "cell_type": "code",
     "collapsed": false,
     "input": [
      "def column_population(data):\n",
      "    fields = data.keys()\n",
      "    columns = [{'id':k,'name':k,'field':k,} for k in fields]\n",
      "    return columns\n",
      "\n",
      "columns = column_population(data)\n",
      "pp.pprint(columns)"
     ],
     "language": "python",
     "metadata": {},
     "outputs": [
      {
       "output_type": "stream",
       "stream": "stdout",
       "text": [
        "[{'field': 'employees', 'id': 'employees', 'name': 'employees'},\n",
        " {'field': 'gender', 'id': 'gender', 'name': 'gender'},\n",
        " {'field': 'desk', 'id': 'desk', 'name': 'desk'}]\n"
       ]
      }
     ],
     "prompt_number": 14
    },
    {
     "cell_type": "code",
     "collapsed": false,
     "input": [
      "'''\n",
      "  <link rel=\"stylesheet\" href=\"static/css/slick.grid.css\" type=\"text/css\"/>\n",
      "  <link rel=\"stylesheet\" href=\"static/css/jquery-ui-1.8.16.custom.css\" type=\"text/css\"/>\n",
      "  <link rel=\"stylesheet\" href=\"static/css/examples.css\" type=\"text/css\"/>\n",
      "</head>\n",
      "<body>\n",
      "<table width=\"100%\">\n",
      "  <tr>\n",
      "    <td valign=\"top\" width=\"50%\">\n",
      "      <div id=\"myGrid\" style=\"width:600px;height:500px;\"></div>\n",
      "    </td>\n",
      "    <td valign=\"top\">\n",
      "      <h2>Demonstrates:</h2>\n",
      "      <ul>\n",
      "        <li>basic grid with multi-column sort option</li>\n",
      "      </ul>\n",
      "    </td>\n",
      "  </tr>\n",
      "</table>\n",
      "\n",
      "<script src=\"static/js/jquery-1.7.min.js\"></script>\n",
      "<script src=\"static/js/jquery.event.drag-2.2.js\"></script>\n",
      "\n",
      "<script src=\"static/js/slick.core.js\"></script>\n",
      "<script src=\"static/js/slick.grid.js\"></script>\n",
      "\n",
      "<script>\n",
      "  var grid;\n",
      "  var columns = {0}\n",
      "\n",
      "  var options = {\n",
      "    enableCellNavigation: true,\n",
      "    enableColumnReorder: false\n",
      "  };\n",
      "\n",
      "  var data = {1}\n",
      "    console.log(data);\n",
      "\n",
      "    grid = new Slick.Grid(\"#myGrid\", data, columns, options);\n",
      "  })\n",
      "</script>\n",
      "</body>\n",
      "</html>\n",
      "'''.format(columns, rows)"
     ],
     "language": "python",
     "metadata": {},
     "outputs": [
      {
       "ename": "KeyError",
       "evalue": "'\\n    enableCellNavigation'",
       "output_type": "pyerr",
       "traceback": [
        "\u001b[0;31m---------------------------------------------------------------------------\u001b[0m\n\u001b[0;31mKeyError\u001b[0m                                  Traceback (most recent call last)",
        "\u001b[0;32m<ipython-input-15-d074681143c9>\u001b[0m in \u001b[0;36m<module>\u001b[0;34m()\u001b[0m\n\u001b[1;32m     42\u001b[0m \u001b[0;34m<\u001b[0m\u001b[0;34m/\u001b[0m\u001b[0mbody\u001b[0m\u001b[0;34m>\u001b[0m\u001b[0;34m\u001b[0m\u001b[0m\n\u001b[1;32m     43\u001b[0m \u001b[0;34m<\u001b[0m\u001b[0;34m/\u001b[0m\u001b[0mhtml\u001b[0m\u001b[0;34m>\u001b[0m\u001b[0;34m\u001b[0m\u001b[0m\n\u001b[0;32m---> 44\u001b[0;31m '''.format(columns, rows)\n\u001b[0m",
        "\u001b[0;31mKeyError\u001b[0m: '\\n    enableCellNavigation'"
       ]
      },
      {
       "output_type": "stream",
       "stream": "stderr",
       "text": [
        "ERROR: An unexpected error occurred while tokenizing input\n",
        "The following traceback may be corrupted or invalid\n",
        "The error message is: ('EOF in multi-line string', (1, 0))\n",
        "\n"
       ]
      }
     ],
     "prompt_number": 15
    },
    {
     "cell_type": "code",
     "collapsed": false,
     "input": [],
     "language": "python",
     "metadata": {},
     "outputs": []
    },
    {
     "cell_type": "code",
     "collapsed": false,
     "input": [],
     "language": "python",
     "metadata": {},
     "outputs": []
    }
   ],
   "metadata": {}
  }
 ]
}